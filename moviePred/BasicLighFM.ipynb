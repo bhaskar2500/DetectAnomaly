{
 "cells": [
  {
   "cell_type": "code",
   "execution_count": 86,
   "metadata": {},
   "outputs": [],
   "source": [
    "import lightfm\n",
    "from lightfm.datasets.movielens import fetch_movielens\n",
    "import numpy as np\n"
   ]
  },
  {
   "cell_type": "code",
   "execution_count": 87,
   "metadata": {},
   "outputs": [],
   "source": [
    "data=fetch_movielens(min_rating=0.3)"
   ]
  },
  {
   "cell_type": "code",
   "execution_count": 98,
   "metadata": {},
   "outputs": [
    {
     "data": {
      "text/plain": [
       "array(['Toy Story (1995)', 'Richard III (1995)', 'Postino, Il (1994)',\n",
       "       \"Antonia's Line (1995)\", 'Birdcage, The (1996)', 'Fargo (1996)',\n",
       "       'Truth About Cats & Dogs, The (1996)', 'Godfather, The (1972)',\n",
       "       'Jerry Maguire (1996)', 'Kolya (1996)',\n",
       "       \"My Best Friend's Wedding (1997)\", 'Men in Black (1997)',\n",
       "       'Contact (1997)', 'Full Monty, The (1997)',\n",
       "       'Good Will Hunting (1997)', 'Heat (1995)', 'Sabrina (1995)',\n",
       "       'Sense and Sensibility (1995)', 'Leaving Las Vegas (1995)',\n",
       "       'Restoration (1995)', 'Bed of Roses (1996)',\n",
       "       'Once Upon a Time... When We Were Colored (1995)',\n",
       "       'Time to Kill, A (1996)', 'Emma (1996)', 'Tin Cup (1996)',\n",
       "       'Secrets & Lies (1996)', 'English Patient, The (1996)',\n",
       "       \"Marvin's Room (1996)\", 'Scream (1996)', 'Evita (1996)',\n",
       "       'Absolute Power (1997)', 'Donnie Brasco (1997)', 'Liar Liar (1997)',\n",
       "       'Breakdown (1997)', 'Promesse, La (1996)', 'Face/Off (1997)',\n",
       "       'Hoodlum (1997)', 'Air Force One (1997)', 'In & Out (1997)',\n",
       "       'L.A. Confidential (1997)', \"Ulee's Gold (1997)\",\n",
       "       'Fly Away Home (1996)', 'Ice Storm, The (1997)',\n",
       "       'Mrs. Brown (Her Majesty, Mrs. Brown) (1997)',\n",
       "       \"Devil's Advocate, The (1997)\", 'FairyTale: A True Story (1997)',\n",
       "       'Deceiver (1997)', 'Rainmaker, The (1997)',\n",
       "       'Wings of the Dove, The (1997)', 'Titanic (1997)',\n",
       "       'Apt Pupil (1998)', 'As Good As It Gets (1997)'], dtype=object)"
      ]
     },
     "execution_count": 98,
     "metadata": {},
     "output_type": "execute_result"
    }
   ],
   "source": [
    "model=lightfm.LightFM(loss='warp')\n",
    "# data['item_labels']\n"
   ]
  },
  {
   "cell_type": "code",
   "execution_count": 89,
   "metadata": {},
   "outputs": [
    {
     "data": {
      "text/plain": [
       "<lightfm.lightfm.LightFM at 0x7056828>"
      ]
     },
     "execution_count": 89,
     "metadata": {},
     "output_type": "execute_result"
    }
   ],
   "source": [
    "model.fit(data['train'],num_threads=2,epochs=10)"
   ]
  },
  {
   "cell_type": "code",
   "execution_count": 84,
   "metadata": {},
   "outputs": [],
   "source": [
    "def sample_recommendation(model,data,user_ids):\n",
    "    # get the items and the user_ids from the dataset\n",
    "    n_users,n_items = data['train'].shape\n",
    "    #now, generate a recommendation for each user\n",
    "    for user_id in user_ids:\n",
    "        # Here, the data is inmatrix so convert them to a compressed row format\n",
    "        known_positives = data['item_labels'][data['train'].tocsr()[user_id].indices]\n",
    "        scores = model.predict(user_id,np.arange(n_items))\n",
    "        # arrange in descending order to see his top choices\n",
    "        top_items = data['item_labels'][np.argsort(-scores)]\n",
    "        print(\"User %s\" % user_id)\n",
    "        print( \"Known Positives:\")\n",
    "        \n",
    "        for x in known_positives[:3]:\n",
    "            print( \"      %s\" % x)\n",
    "        \n",
    "        print(\"   Recommended:\")\n",
    "        for x in top_items[:3]:\n",
    "            print(\" %s\" % x)\n"
   ]
  },
  {
   "cell_type": "code",
   "execution_count": 85,
   "metadata": {},
   "outputs": [
    {
     "name": "stdout",
     "output_type": "stream",
     "text": [
      "User 1\n",
      "    Known Positives:\n",
      "      Toy Story (1995)\n",
      "      Richard III (1995)\n",
      "      Postino, Il (1994)\n",
      "   Recommended:\n",
      "     English Patient, The (1996)\n",
      "     Air Force One (1997)\n",
      "     Contact (1997)\n",
      "User 24\n",
      "    Known Positives:\n",
      "      Toy Story (1995)\n",
      "      Twelve Monkeys (1995)\n",
      "      Babe (1995)\n",
      "   Recommended:\n",
      "     Raiders of the Lost Ark (1981)\n",
      "     Star Wars (1977)\n",
      "     Silence of the Lambs, The (1991)\n",
      "User 5\n",
      "    Known Positives:\n",
      "      Toy Story (1995)\n",
      "      Twelve Monkeys (1995)\n",
      "      Babe (1995)\n",
      "   Recommended:\n",
      "     English Patient, The (1996)\n",
      "     Fargo (1996)\n",
      "     Annie Hall (1977)\n",
      "User 6\n",
      "    Known Positives:\n",
      "      Get Shorty (1995)\n",
      "      Twelve Monkeys (1995)\n",
      "      Babe (1995)\n",
      "   Recommended:\n",
      "     Raiders of the Lost Ark (1981)\n",
      "     Terminator, The (1984)\n",
      "     Silence of the Lambs, The (1991)\n"
     ]
    }
   ],
   "source": [
    "np.set_printoptions(threshold=numpy.nan)\n",
    "sample_recommendation(model,data,[1,24,5,6])"
   ]
  },
  {
   "cell_type": "code",
   "execution_count": null,
   "metadata": {
    "collapsed": true
   },
   "outputs": [],
   "source": []
  },
  {
   "cell_type": "code",
   "execution_count": null,
   "metadata": {
    "collapsed": true
   },
   "outputs": [],
   "source": []
  }
 ],
 "metadata": {
  "kernelspec": {
   "display_name": "Python 3",
   "language": "python",
   "name": "python3"
  },
  "language_info": {
   "codemirror_mode": {
    "name": "ipython",
    "version": 3
   },
   "file_extension": ".py",
   "mimetype": "text/x-python",
   "name": "python",
   "nbconvert_exporter": "python",
   "pygments_lexer": "ipython3",
   "version": "3.5.0"
  }
 },
 "nbformat": 4,
 "nbformat_minor": 2
}
