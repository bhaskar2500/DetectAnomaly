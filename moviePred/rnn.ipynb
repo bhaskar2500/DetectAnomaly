{
 "cells": [
  {
   "cell_type": "markdown",
   "metadata": {},
   "source": [
    "![Big Data University](https://ibm.box.com/shared/static/jvcqp2iy2jlx2b32rmzdt0tx8lvxgzkp.png)\n",
    "# <center> Sequence classification with LSTM on MNIST</center>\n",
    "<div class=\"alert alert-block alert-info\">\n",
    "<font size = 3><strong>In this notebook you will learn the How to use TensorFlow for create a Recurrent Neural Network</strong></font>\n",
    "<br>    \n",
    "- <a href=\"#intro\">Introduction</a>\n",
    "<br>\n",
    "- <p><a href=\"#arch\">Architectures</a></p>\n",
    "    - <a href=\"#lstm\">Long Short-Term Memory Model (LSTM)</a>\n",
    "\n",
    "- <p><a href=\"#build\">Building a LSTM with TensorFlow</a></p>\n",
    "</div>\n",
    "----------------"
   ]
  },
  {
   "cell_type": "markdown",
   "metadata": {},
   "source": [
    "## <a id=\"intro\"/> Introduction\n",
    "Recurrent Neural Networks are Deep Learning models with simple structures and a feedback mechanism builted-in, or in different words, the output of a layer is added to the next input and fed back to the same layer.\n",
    "\n",
    "The Recurrent Neural Network is a specialized type of Neural Network that solves the issue of **maintaining context for Sequential data** -- such as Weather data, Stocks, Genes, etc. At each iterative step, the processing unit takes in an input and the current state of the network, and produces an output and a new state that is **re-fed into the network**.\n",
    "\n",
    "However, **this model has some problems**. It's very computationally expensive to maintain the state for a large amount of units, even more so over a long amount of time. Additionally, Recurrent Networks are very sensitive to changes in their parameters. As such, they are prone to different problems with their Gradient Descent optimizer -- they either grow exponentially (Exploding Gradient) or drop down to near zero and stabilize (Vanishing Gradient), both problems that greatly harm a model's learning capability.\n",
    "\n",
    "To solve these problems, Hochreiter and Schmidhuber published a paper in 1997 describing a way to keep information over long periods of time and additionally solve the oversensitivity to parameter changes, i.e., make backpropagating through the Recurrent Networks more viable.\n",
    "\n",
    "(In this notebook, we will cover only LSTM and its implementation using TensorFlow)"
   ]
  },
  {
   "cell_type": "markdown",
   "metadata": {},
   "source": [
    "## <a id=\"arch\"/>Architectures\n",
    "- Fully Recurrent Network\n",
    "- Recursive Neural Networks\n",
    "- Hopfield Networks\n",
    "- Elman Networks and Jordan Networks\n",
    "- Echo State Networks\n",
    "- Neural history compressor\n",
    "- **The Long Short-Term Memory Model (LSTM)**\n",
    "\n",
    "<img src=\"https://ibm.box.com/shared/static/v7p90neiaqghmpwawpiecmz9n7080m59.png\" alt=\"Representation of a Recurrent Neural Network\" width=80%>"
   ]
  },
  {
   "cell_type": "markdown",
   "metadata": {},
   "source": [
    "##  <a id=\"lstm\"/>LSTM\n",
    "LSTM is one of the proposed solutions or upgrades to the **Recurrent Neural Network model**. "
   ]
  },
  {
   "cell_type": "markdown",
   "metadata": {},
   "source": [
    "It is an abstraction of how computer memory works. It is \"bundled\" with whatever processing unit is implemented in the Recurrent Network, although outside of its flow, and is responsible for keeping, reading, and outputting information for the model. The way it works is simple: you have a linear unit, which is the information cell itself, surrounded by three logistic gates responsible for maintaining the data. One gate is for inputting data into the information cell, one is for outputting data from the input cell, and the last one is to keep or forget data depending on the needs of the network.\n",
    "\n",
    "Thanks to that, it not only solves the problem of keeping states, because the network can choose to forget data whenever information is not needed, it also solves the gradient problems, since the Logistic Gates have a very nice derivative.\n",
    "\n",
    "### Long Short-Term Memory Architecture\n",
    "\n",
    "As seen before, the Long Short-Term Memory is composed of a linear unit surrounded by three logistic gates. The name for these gates vary from place to place, but the most usual names for them are:\n",
    "- the \"Input\" or \"Write\" Gate, which handles the writing of data into the information cell, \n",
    "- the \"Output\" or \"Read\" Gate, which handles the sending of data back onto the Recurrent Network, and \n",
    "- the \"Keep\" or \"Forget\" Gate, which handles the maintaining and modification of the data stored in the information cell.\n",
    "\n",
    "<img src=https://ibm.box.com/shared/static/zx10duv5egw0baw6gh2hzsgr8ex45gsg.png width=\"720\"/>\n",
    "<center>*Diagram of the Long Short-Term Memory Unit*</center>\n",
    "\n",
    "The three gates are the centerpiece of the LSTM unit. The gates, when activated by the network, perform their respective functions. For example, the Input Gate will write whatever data it is passed onto the information cell, the Output Gate will return whatever data is in the information cell, and the Keep Gate will maintain the data in the information cell. These gates are analog and multiplicative, and as such, can modify the data based on the signal they are sent.\n",
    "\n",
    "---"
   ]
  },
  {
   "cell_type": "markdown",
   "metadata": {},
   "source": [
    "## <a id=\"build\"/> Building a LSTM with TensorFlow"
   ]
  },
  {
   "cell_type": "markdown",
   "metadata": {},
   "source": [
    "#### LSTM for Classification\n",
    "Although RNN is mostly used to model sequences and predict sequential data, we can still classify images using a LSTM network. If we consider every image row as a sequence of pixels, we can feed a LSTM network for classification. Lets use the famous MNIST dataset here. Because MNIST image shape is 28*28px, we will then handle 28 sequences of 28 steps for every sample."
   ]
  },
  {
   "cell_type": "markdown",
   "metadata": {},
   "source": [
    "#### MNIST Dataset\n",
    "\n",
    "Tensor flow already provides **helper functions** to download and process the MNIST dataset."
   ]
  },
  {
   "cell_type": "code",
   "execution_count": 23,
   "metadata": {
    "collapsed": true
   },
   "outputs": [],
   "source": [
    "%matplotlib inline\n",
    "import warnings\n",
    "warnings.filterwarnings('ignore')\n",
    "\n",
    "import numpy as np\n",
    "import matplotlib.pyplot as plt\n",
    "\n",
    "import tensorflow as tf"
   ]
  },
  {
   "cell_type": "code",
   "execution_count": 3,
   "metadata": {},
   "outputs": [
    {
     "name": "stdout",
     "output_type": "stream",
     "text": [
      "Successfully downloaded train-images-idx3-ubyte.gz 9912422 bytes.\n",
      "Extracting ../../data/MNIST/train-images-idx3-ubyte.gz\n",
      "Successfully downloaded train-labels-idx1-ubyte.gz 28881 bytes.\n",
      "Extracting ../../data/MNIST/train-labels-idx1-ubyte.gz\n",
      "Successfully downloaded t10k-images-idx3-ubyte.gz 1648877 bytes.\n",
      "Extracting ../../data/MNIST/t10k-images-idx3-ubyte.gz\n",
      "Successfully downloaded t10k-labels-idx1-ubyte.gz 4542 bytes.\n",
      "Extracting ../../data/MNIST/t10k-labels-idx1-ubyte.gz\n"
     ]
    }
   ],
   "source": [
    "from tensorflow.examples.tutorials.mnist import input_data\n",
    "mnist = input_data.read_data_sets(\"../../data/MNIST/\", one_hot=True)"
   ]
  },
  {
   "cell_type": "markdown",
   "metadata": {},
   "source": [
    "The function **`input_data.read_data_sets(...)`** loads the entire dataset and returns an object **`tensorflow.contrib.learn.python.learn.datasets.mnist.DataSets`**\n",
    "\n",
    "\n",
    "The argument **(`one_hot=False`)** creates the label arrays as 10-dimensional binary vectors (only zeros and ones), in which the index cell for the number one, is the class label."
   ]
  },
  {
   "cell_type": "code",
   "execution_count": 4,
   "metadata": {},
   "outputs": [
    {
     "name": "stdout",
     "output_type": "stream",
     "text": [
      "Train Images:  (55000, 784)\n",
      "Train Labels   (55000, 10)\n",
      "\n",
      "Test Images:   (10000, 784)\n",
      "Test Labels:   (10000, 10)\n"
     ]
    }
   ],
   "source": [
    "trainimgs = mnist.train.images\n",
    "trainlabels = mnist.train.labels\n",
    "testimgs = mnist.test.images\n",
    "testlabels = mnist.test.labels \n",
    "\n",
    "ntrain = trainimgs.shape[0]\n",
    "ntest = testimgs.shape[0]\n",
    "dim = trainimgs.shape[1]\n",
    "nclasses = trainlabels.shape[1]\n",
    "print(\"Train Images: \", trainimgs.shape)\n",
    "print(\"Train Labels  \", trainlabels.shape)\n",
    "print()\n",
    "print(\"Test Images:  \" , testimgs.shape)\n",
    "print(\"Test Labels:  \", testlabels.shape)"
   ]
  },
  {
   "cell_type": "markdown",
   "metadata": {},
   "source": [
    "### Let's get one sample, just to understand the structure of MNIST dataset \n",
    "\n",
    "The next code snippet prints the **label vector** (one_hot format), **the class** and actual sample formatted as **image**:"
   ]
  },
  {
   "cell_type": "code",
   "execution_count": 6,
   "metadata": {},
   "outputs": [
    {
     "data": {
      "image/png": "[encoded data removed]",
      "text/plain": [
       "<matplotlib.figure.Figure at 0xfe4a198>"
      ]
     },
     "metadata": {},
     "output_type": "display_data"
    },
    {
     "name": "stdout",
     "output_type": "stream",
     "text": [
      "Sample: 100 - Class: [6] - Label Vector: [ 0.  0.  0.  0.  0.  0.  1.  0.  0.  0.] \n",
      "Sample: 101 - Class: [0] - Label Vector: [ 1.  0.  0.  0.  0.  0.  0.  0.  0.  0.] \n",
      "Sample: 104 - Class: [9] - Label Vector: [ 0.  0.  0.  0.  0.  0.  0.  0.  0.  1.] \n"
     ]
    }
   ],
   "source": [
    "samplesIdx = [100, 101, 104]  #<-- You can change these numbers here to see other samples\n",
    "\n",
    "from mpl_toolkits.mplot3d import Axes3D\n",
    "fig = plt.figure()\n",
    "\n",
    "ax1 = fig.add_subplot(121)\n",
    "ax1.imshow(testimgs[samplesIdx[0]].reshape([28,28]), cmap='gray')\n",
    "\n",
    "\n",
    "xx, yy = np.meshgrid(np.linspace(0,28,28), np.linspace(0,28,28))\n",
    "X =  xx ; Y =  yy\n",
    "Z =  100*np.ones(X.shape)\n",
    "\n",
    "img = testimgs[77].reshape([28,28])\n",
    "ax = fig.add_subplot(122, projection='3d')\n",
    "ax.set_zlim((0,200))\n",
    "\n",
    "\n",
    "offset=200\n",
    "for i in samplesIdx:\n",
    "    img = testimgs[i].reshape([28,28]).transpose()\n",
    "    ax.contourf(X, Y, img, 200, zdir='z', offset=offset, cmap=\"gray\")\n",
    "    offset -= 100\n",
    "\n",
    "    ax.set_xticks([])\n",
    "ax.set_yticks([])\n",
    "ax.set_zticks([])\n",
    "\n",
    "plt.show()\n",
    "\n",
    "\n",
    "for i in samplesIdx:\n",
    "    print(\"Sample: {0} - Class: {1} - Label Vector: {2} \".format(i, np.nonzero(testlabels[i])[0], testlabels[i]))"
   ]
  },
  {
   "cell_type": "markdown",
   "metadata": {},
   "source": [
    "---\n",
    "### Let's Understand the parameters, inputs and outputs\n",
    "\n",
    "We will treat the MNIST image $\\in \\mathcal{R}^{28 \\times 28}$ as $28$ sequences of a vector $\\mathbf{x} \\in \\mathcal{R}^{28}$. \n",
    "\n",
    "#### Our simple RNN consists of  \n",
    "1. One input layer which converts a $28$ dimensional input to an $128$ dimensional hidden layer, \n",
    "2. One intermediate recurrent neural network (LSTM) \n",
    "3. One output layer which converts an $128$ dimensional output of the LSTM to $10$ dimensional output indicating a class label. "
   ]
  },
  {
   "cell_type": "code",
   "execution_count": 24,
   "metadata": {},
   "outputs": [],
   "source": [
    "n_input = 28 # MNIST data input (img shape: 28*28)\n",
    "n_steps = 28 # timesteps\n",
    "n_hidden = 128 # hidden layer num of features\n",
    "n_classes = 10 # MNIST total classes (0-9 digits)\n",
    "\n",
    "\n",
    "learning_rate = 0.001\n",
    "training_iters = 100000\n",
    "batch_size = 100\n",
    "display_step = 10\n"
   ]
  },
  {
   "cell_type": "markdown",
   "metadata": {},
   "source": [
    "#### Construct a Recurrent Neural Network"
   ]
  },
  {
   "cell_type": "code",
   "execution_count": 6,
   "metadata": {
    "collapsed": true
   },
   "outputs": [],
   "source": [
    "x = tf.placeholder(dtype=\"float\", shape=[None, n_steps, n_input], name=\"x\")\n",
    "y = tf.placeholder(dtype=\"float\", shape=[None, n_classes], name=\"y\")"
   ]
  },
  {
   "cell_type": "code",
   "execution_count": 7,
   "metadata": {
    "collapsed": true
   },
   "outputs": [],
   "source": [
    "weights = {\n",
    "    'out': tf.Variable(tf.random_normal([n_hidden, n_classes]))\n",
    "}\n",
    "biases = {\n",
    "    'out': tf.Variable(tf.random_normal([n_classes]))\n",
    "}"
   ]
  },
  {
   "cell_type": "markdown",
   "metadata": {},
   "source": [
    "The input should be a Tensor of shape: [batch_size, max_time, ...], in our case it would be (?, 28, 28)"
   ]
  },
  {
   "cell_type": "code",
   "execution_count": 8,
   "metadata": {
    "collapsed": true
   },
   "outputs": [],
   "source": [
    "# Define a lstm cell with tensorflow\n",
    "lstm_cell = tf.contrib.rnn.BasicLSTMCell(n_hidden, forget_bias=1.0, state_is_tuple=True)\n",
    "\n",
    "#initial state\n",
    "#initial_state = (tf.zeros([1,n_hidden]),)*2"
   ]
  },
  {
   "cell_type": "code",
   "execution_count": 9,
   "metadata": {
    "collapsed": true
   },
   "outputs": [],
   "source": [
    "def RNN(x, weights, biases):\n",
    "\n",
    "    # Prepare data shape to match `rnn` function requirements\n",
    "    # Current data input shape: (batch_size, n_steps, n_input) [100x28x28]\n",
    "\n",
    "    # Define a lstm cell with tensorflow\n",
    "    lstm_cell = tf.contrib.rnn.BasicLSTMCell(n_hidden, forget_bias=1.0)\n",
    "   \n",
    "\n",
    "    # Get lstm cell output\n",
    "    outputs, states = tf.nn.dynamic_rnn(lstm_cell, inputs=x, dtype=tf.float32)\n",
    "\n",
    "    # Get lstm cell output\n",
    "    #outputs, states = lstm_cell(x , initial_state)\n",
    "    \n",
    "    # The output of the rnn would be a [100x28x128] matrix. we use the linear activation to map it to a [?x10 matrix]\n",
    "    # Linear activation, using rnn inner loop last output\n",
    "    # output [100x128] x  weight [128, 10] + []\n",
    "    output = tf.reshape(tf.split(outputs, 28, axis=1, num=None, name='split')[-1],[-1,128])\n",
    "    return tf.matmul(output, weights['out']) + biases['out']"
   ]
  },
  {
   "cell_type": "code",
   "execution_count": 10,
   "metadata": {
    "collapsed": true
   },
   "outputs": [],
   "source": [
    "with tf.variable_scope('forward3'):\n",
    "    pred = RNN(x, weights, biases)"
   ]
  },
  {
   "cell_type": "markdown",
   "metadata": {},
   "source": [
    "__labels__ and __logits__ should be tensors of shape [100x10] "
   ]
  },
  {
   "cell_type": "code",
   "execution_count": 11,
   "metadata": {
    "collapsed": true
   },
   "outputs": [],
   "source": [
    "cost = tf.reduce_mean(tf.nn.softmax_cross_entropy_with_logits(labels=y, logits=pred ))\n",
    "optimizer = tf.train.AdamOptimizer(learning_rate=learning_rate).minimize(cost)"
   ]
  },
  {
   "cell_type": "code",
   "execution_count": 12,
   "metadata": {
    "collapsed": true
   },
   "outputs": [],
   "source": [
    "correct_pred = tf.equal(tf.argmax(pred,1), tf.argmax(y,1))\n",
    "accuracy = tf.reduce_mean(tf.cast(correct_pred, tf.float32))"
   ]
  },
  {
   "cell_type": "code",
   "execution_count": 13,
   "metadata": {
    "collapsed": true
   },
   "outputs": [],
   "source": [
    "accuracy_v2 = tf.contrib.metrics.accuracy(\n",
    "    labels=tf.arg_max(y, dimension=1), \n",
    "    predictions=tf.arg_max(pred, dimension=1)\n",
    ")"
   ]
  },
  {
   "cell_type": "markdown",
   "metadata": {},
   "source": [
    "Just recall that we will treat the MNIST image $\\in \\mathcal{R}^{28 \\times 28}$ as $28$ sequences of a vector $\\mathbf{x} \\in \\mathcal{R}^{28}$. "
   ]
  },
  {
   "cell_type": "code",
   "execution_count": 14,
   "metadata": {
    "collapsed": true
   },
   "outputs": [],
   "source": [
    "sess = tf.InteractiveSession()\n",
    "init = tf.global_variables_initializer()"
   ]
  },
  {
   "cell_type": "code",
   "execution_count": 15,
   "metadata": {
    "scrolled": true
   },
   "outputs": [
    {
     "name": "stdout",
     "output_type": "stream",
     "text": [
      "(1000 / 100000)    Minibatch loss=1.850881    Accuracy=0.43000    Accuracy (tf)=0.43000\n",
      "(2000 / 100000)    Minibatch loss=1.456735    Accuracy=0.55000    Accuracy (tf)=0.55000\n",
      "(3000 / 100000)    Minibatch loss=1.155387    Accuracy=0.59000    Accuracy (tf)=0.59000\n",
      "(4000 / 100000)    Minibatch loss=1.249778    Accuracy=0.54000    Accuracy (tf)=0.54000\n",
      "(5000 / 100000)    Minibatch loss=1.142365    Accuracy=0.64000    Accuracy (tf)=0.64000\n",
      "(6000 / 100000)    Minibatch loss=0.885371    Accuracy=0.74000    Accuracy (tf)=0.74000\n",
      "(7000 / 100000)    Minibatch loss=0.507802    Accuracy=0.81000    Accuracy (tf)=0.81000\n",
      "(8000 / 100000)    Minibatch loss=0.628446    Accuracy=0.75000    Accuracy (tf)=0.75000\n",
      "(9000 / 100000)    Minibatch loss=0.534296    Accuracy=0.80000    Accuracy (tf)=0.80000\n",
      "(10000 / 100000)    Minibatch loss=0.328939    Accuracy=0.91000    Accuracy (tf)=0.91000\n",
      "(11000 / 100000)    Minibatch loss=0.335713    Accuracy=0.90000    Accuracy (tf)=0.90000\n",
      "(12000 / 100000)    Minibatch loss=0.470027    Accuracy=0.86000    Accuracy (tf)=0.86000\n",
      "(13000 / 100000)    Minibatch loss=0.404602    Accuracy=0.86000    Accuracy (tf)=0.86000\n",
      "(14000 / 100000)    Minibatch loss=0.193695    Accuracy=0.97000    Accuracy (tf)=0.97000\n",
      "(15000 / 100000)    Minibatch loss=0.379994    Accuracy=0.89000    Accuracy (tf)=0.89000\n",
      "(16000 / 100000)    Minibatch loss=0.209487    Accuracy=0.93000    Accuracy (tf)=0.93000\n",
      "(17000 / 100000)    Minibatch loss=0.195182    Accuracy=0.96000    Accuracy (tf)=0.96000\n",
      "(18000 / 100000)    Minibatch loss=0.296144    Accuracy=0.89000    Accuracy (tf)=0.89000\n",
      "(19000 / 100000)    Minibatch loss=0.340441    Accuracy=0.90000    Accuracy (tf)=0.90000\n",
      "(20000 / 100000)    Minibatch loss=0.350278    Accuracy=0.91000    Accuracy (tf)=0.91000\n",
      "(21000 / 100000)    Minibatch loss=0.291284    Accuracy=0.87000    Accuracy (tf)=0.87000\n",
      "(22000 / 100000)    Minibatch loss=0.297869    Accuracy=0.89000    Accuracy (tf)=0.89000\n",
      "(23000 / 100000)    Minibatch loss=0.173801    Accuracy=0.93000    Accuracy (tf)=0.93000\n",
      "(24000 / 100000)    Minibatch loss=0.234894    Accuracy=0.91000    Accuracy (tf)=0.91000\n",
      "(25000 / 100000)    Minibatch loss=0.174178    Accuracy=0.96000    Accuracy (tf)=0.96000\n",
      "(26000 / 100000)    Minibatch loss=0.182272    Accuracy=0.93000    Accuracy (tf)=0.93000\n",
      "(27000 / 100000)    Minibatch loss=0.172375    Accuracy=0.93000    Accuracy (tf)=0.93000\n",
      "(28000 / 100000)    Minibatch loss=0.191111    Accuracy=0.92000    Accuracy (tf)=0.92000\n",
      "(29000 / 100000)    Minibatch loss=0.246552    Accuracy=0.92000    Accuracy (tf)=0.92000\n",
      "(30000 / 100000)    Minibatch loss=0.189268    Accuracy=0.94000    Accuracy (tf)=0.94000\n",
      "(31000 / 100000)    Minibatch loss=0.138168    Accuracy=0.97000    Accuracy (tf)=0.97000\n",
      "(32000 / 100000)    Minibatch loss=0.102459    Accuracy=0.99000    Accuracy (tf)=0.99000\n",
      "(33000 / 100000)    Minibatch loss=0.401999    Accuracy=0.89000    Accuracy (tf)=0.89000\n",
      "(34000 / 100000)    Minibatch loss=0.110543    Accuracy=0.97000    Accuracy (tf)=0.97000\n",
      "(35000 / 100000)    Minibatch loss=0.168854    Accuracy=0.95000    Accuracy (tf)=0.95000\n",
      "(36000 / 100000)    Minibatch loss=0.125984    Accuracy=0.97000    Accuracy (tf)=0.97000\n",
      "(37000 / 100000)    Minibatch loss=0.176938    Accuracy=0.94000    Accuracy (tf)=0.94000\n",
      "(38000 / 100000)    Minibatch loss=0.105703    Accuracy=0.96000    Accuracy (tf)=0.96000\n",
      "(39000 / 100000)    Minibatch loss=0.257360    Accuracy=0.93000    Accuracy (tf)=0.93000\n",
      "(40000 / 100000)    Minibatch loss=0.178438    Accuracy=0.96000    Accuracy (tf)=0.96000\n",
      "(41000 / 100000)    Minibatch loss=0.160108    Accuracy=0.95000    Accuracy (tf)=0.95000\n",
      "(42000 / 100000)    Minibatch loss=0.100121    Accuracy=0.97000    Accuracy (tf)=0.97000\n",
      "(43000 / 100000)    Minibatch loss=0.190255    Accuracy=0.96000    Accuracy (tf)=0.96000\n",
      "(44000 / 100000)    Minibatch loss=0.242325    Accuracy=0.95000    Accuracy (tf)=0.95000\n",
      "(45000 / 100000)    Minibatch loss=0.262376    Accuracy=0.93000    Accuracy (tf)=0.93000\n",
      "(46000 / 100000)    Minibatch loss=0.082209    Accuracy=0.97000    Accuracy (tf)=0.97000\n",
      "(47000 / 100000)    Minibatch loss=0.163795    Accuracy=0.94000    Accuracy (tf)=0.94000\n",
      "(48000 / 100000)    Minibatch loss=0.122494    Accuracy=0.97000    Accuracy (tf)=0.97000\n",
      "(49000 / 100000)    Minibatch loss=0.153163    Accuracy=0.95000    Accuracy (tf)=0.95000\n",
      "(50000 / 100000)    Minibatch loss=0.170939    Accuracy=0.93000    Accuracy (tf)=0.93000\n",
      "(51000 / 100000)    Minibatch loss=0.087172    Accuracy=0.98000    Accuracy (tf)=0.98000\n",
      "(52000 / 100000)    Minibatch loss=0.147273    Accuracy=0.97000    Accuracy (tf)=0.97000\n",
      "(53000 / 100000)    Minibatch loss=0.082001    Accuracy=0.96000    Accuracy (tf)=0.96000\n",
      "(54000 / 100000)    Minibatch loss=0.071467    Accuracy=0.99000    Accuracy (tf)=0.99000\n",
      "(55000 / 100000)    Minibatch loss=0.152581    Accuracy=0.97000    Accuracy (tf)=0.97000\n",
      "(56000 / 100000)    Minibatch loss=0.117195    Accuracy=0.96000    Accuracy (tf)=0.96000\n",
      "(57000 / 100000)    Minibatch loss=0.078302    Accuracy=0.97000    Accuracy (tf)=0.97000\n",
      "(58000 / 100000)    Minibatch loss=0.162988    Accuracy=0.96000    Accuracy (tf)=0.96000\n",
      "(59000 / 100000)    Minibatch loss=0.098463    Accuracy=0.96000    Accuracy (tf)=0.96000\n",
      "(60000 / 100000)    Minibatch loss=0.075145    Accuracy=0.98000    Accuracy (tf)=0.98000\n",
      "(61000 / 100000)    Minibatch loss=0.151033    Accuracy=0.95000    Accuracy (tf)=0.95000\n",
      "(62000 / 100000)    Minibatch loss=0.031515    Accuracy=0.99000    Accuracy (tf)=0.99000\n",
      "(63000 / 100000)    Minibatch loss=0.092133    Accuracy=0.96000    Accuracy (tf)=0.96000\n",
      "(64000 / 100000)    Minibatch loss=0.056619    Accuracy=0.97000    Accuracy (tf)=0.97000\n",
      "(65000 / 100000)    Minibatch loss=0.066067    Accuracy=0.98000    Accuracy (tf)=0.98000\n",
      "(66000 / 100000)    Minibatch loss=0.065037    Accuracy=0.98000    Accuracy (tf)=0.98000\n",
      "(67000 / 100000)    Minibatch loss=0.040570    Accuracy=0.98000    Accuracy (tf)=0.98000\n",
      "(68000 / 100000)    Minibatch loss=0.124935    Accuracy=0.96000    Accuracy (tf)=0.96000\n",
      "(69000 / 100000)    Minibatch loss=0.135773    Accuracy=0.94000    Accuracy (tf)=0.94000\n",
      "(70000 / 100000)    Minibatch loss=0.060647    Accuracy=0.98000    Accuracy (tf)=0.98000\n",
      "(71000 / 100000)    Minibatch loss=0.049782    Accuracy=0.98000    Accuracy (tf)=0.98000\n",
      "(72000 / 100000)    Minibatch loss=0.088643    Accuracy=0.97000    Accuracy (tf)=0.97000\n",
      "(73000 / 100000)    Minibatch loss=0.150619    Accuracy=0.96000    Accuracy (tf)=0.96000\n",
      "(74000 / 100000)    Minibatch loss=0.368645    Accuracy=0.92000    Accuracy (tf)=0.92000\n",
      "(75000 / 100000)    Minibatch loss=0.104583    Accuracy=0.97000    Accuracy (tf)=0.97000\n",
      "(76000 / 100000)    Minibatch loss=0.183688    Accuracy=0.95000    Accuracy (tf)=0.95000\n",
      "(77000 / 100000)    Minibatch loss=0.118187    Accuracy=0.97000    Accuracy (tf)=0.97000\n",
      "(78000 / 100000)    Minibatch loss=0.105380    Accuracy=0.96000    Accuracy (tf)=0.96000\n",
      "(79000 / 100000)    Minibatch loss=0.075565    Accuracy=0.97000    Accuracy (tf)=0.97000\n",
      "(80000 / 100000)    Minibatch loss=0.141826    Accuracy=0.96000    Accuracy (tf)=0.96000\n",
      "(81000 / 100000)    Minibatch loss=0.111309    Accuracy=0.96000    Accuracy (tf)=0.96000\n",
      "(82000 / 100000)    Minibatch loss=0.133840    Accuracy=0.97000    Accuracy (tf)=0.97000\n",
      "(83000 / 100000)    Minibatch loss=0.198778    Accuracy=0.94000    Accuracy (tf)=0.94000\n",
      "(84000 / 100000)    Minibatch loss=0.197886    Accuracy=0.94000    Accuracy (tf)=0.94000\n",
      "(85000 / 100000)    Minibatch loss=0.115872    Accuracy=0.97000    Accuracy (tf)=0.97000\n",
      "(86000 / 100000)    Minibatch loss=0.084435    Accuracy=0.98000    Accuracy (tf)=0.98000\n",
      "(87000 / 100000)    Minibatch loss=0.053613    Accuracy=0.98000    Accuracy (tf)=0.98000\n",
      "(88000 / 100000)    Minibatch loss=0.075559    Accuracy=0.98000    Accuracy (tf)=0.98000\n",
      "(89000 / 100000)    Minibatch loss=0.120616    Accuracy=0.96000    Accuracy (tf)=0.96000\n",
      "(90000 / 100000)    Minibatch loss=0.216229    Accuracy=0.94000    Accuracy (tf)=0.94000\n",
      "(91000 / 100000)    Minibatch loss=0.064998    Accuracy=0.98000    Accuracy (tf)=0.98000\n",
      "(92000 / 100000)    Minibatch loss=0.113708    Accuracy=0.95000    Accuracy (tf)=0.95000\n",
      "(93000 / 100000)    Minibatch loss=0.064808    Accuracy=0.97000    Accuracy (tf)=0.97000\n"
     ]
    },
    {
     "name": "stdout",
     "output_type": "stream",
     "text": [
      "(94000 / 100000)    Minibatch loss=0.076773    Accuracy=0.97000    Accuracy (tf)=0.97000\n",
      "(95000 / 100000)    Minibatch loss=0.181465    Accuracy=0.94000    Accuracy (tf)=0.94000\n",
      "(96000 / 100000)    Minibatch loss=0.119581    Accuracy=0.96000    Accuracy (tf)=0.96000\n",
      "(97000 / 100000)    Minibatch loss=0.103791    Accuracy=0.97000    Accuracy (tf)=0.97000\n",
      "(98000 / 100000)    Minibatch loss=0.057231    Accuracy=0.98000    Accuracy (tf)=0.98000\n",
      "(99000 / 100000)    Minibatch loss=0.125223    Accuracy=0.95000    Accuracy (tf)=0.95000\n",
      "Optimization Finished!\n"
     ]
    }
   ],
   "source": [
    "sess.run(init)\n",
    "step = 1\n",
    "# Keep training until reach max iterations\n",
    "while step * batch_size < training_iters:\n",
    "\n",
    "    # We will read a batch of 100 images [100 x 784] as batch_x\n",
    "    # batch_y is a matrix of [100x10]\n",
    "    batch_x, batch_y = mnist.train.next_batch(batch_size)\n",
    "\n",
    "    # We consider each row of the image as one sequence\n",
    "    # Reshape data to get 28 seq of 28 elements, so that, batxh_x is [100x28x28]\n",
    "    batch_x = batch_x.reshape((batch_size, n_steps, n_input))\n",
    "\n",
    "\n",
    "    # Run optimization op (backprop)\n",
    "    sess.run(optimizer, feed_dict={x: batch_x, y: batch_y})\n",
    "\n",
    "\n",
    "    if step % display_step == 0:\n",
    "        # Calculate batch accuracy\n",
    "        acc, acc2 = sess.run([accuracy, accuracy_v2], feed_dict={x: batch_x, y: batch_y})\n",
    "        # Calculate batch loss\n",
    "        loss = sess.run(cost, feed_dict={x: batch_x, y: batch_y})\n",
    "        print(\"({} / {})    Minibatch loss={:.6f}    Accuracy={:.5f}    Accuracy (tf)={:.5f}\".format(\n",
    "                step*batch_size,\n",
    "                training_iters,\n",
    "                loss,\n",
    "                acc,\n",
    "                acc2\n",
    "            ))\n",
    "    step += 1\n",
    "print(\"Optimization Finished!\")"
   ]
  },
  {
   "cell_type": "code",
   "execution_count": 16,
   "metadata": {},
   "outputs": [
    {
     "name": "stdout",
     "output_type": "stream",
     "text": [
      "Testing Accuracy: 96.670%\n"
     ]
    }
   ],
   "source": [
    "# Calculate accuracy for the whole test set\n",
    "test_data = mnist.test.images.reshape((-1, n_steps, n_input))\n",
    "test_label = mnist.test.labels\n",
    "print(\"Testing Accuracy: {:.3%}\".format(sess.run(accuracy, feed_dict={x: test_data, y: test_label})))"
   ]
  },
  {
   "cell_type": "code",
   "execution_count": 17,
   "metadata": {
    "collapsed": true
   },
   "outputs": [],
   "source": [
    "sess.close()\n",
    "\n"
   ]
  },
  {
   "cell_type": "markdown",
   "metadata": {
    "collapsed": true
   },
   "source": [
    "Created by <a href=\"https://br.linkedin.com/in/walter-gomes-de-amorim-junior-624726121\">Walter Gomes de Amorim Junior</a> ,  <a href = \"https://linkedin.com/in/saeedaghabozorgi\"> Saeed Aghabozorgi </a></h4>  \n",
    "\n"
   ]
  }
 ],
 "metadata": {
  "anaconda-cloud": {},
  "kernelspec": {
   "display_name": "Python 3",
   "language": "python",
   "name": "python3"
  },
  "language_info": {
   "codemirror_mode": {
    "name": "ipython",
    "version": 3
   },
   "file_extension": ".py",
   "mimetype": "text/x-python",
   "name": "python",
   "nbconvert_exporter": "python",
   "pygments_lexer": "ipython3",
   "version": "3.5.0"
  },
  "widgets": {
   "state": {},
   "version": "1.1.2"
  }
 },
 "nbformat": 4,
 "nbformat_minor": 1
}
