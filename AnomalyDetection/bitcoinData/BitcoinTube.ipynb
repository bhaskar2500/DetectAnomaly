{
 "cells": [
  {
   "cell_type": "markdown",
   "metadata": {},
   "source": [
    "<h1><p style=\"background-color:#FFFF00; border:1px solid blue;box-shadow:1px 1px 1px; color:blue; display:inline\">What is Bitcoin </p></h1>\n",
    "<br/>\n",
    "<h2> Bitcoin is the new <b style=\"color:#D00F37\">GOLD</b>. Its a digital currency with no brokerage fees.</h2><br/>\n",
    "<a> <img src=\"https://fortunedotcom.files.wordpress.com/2016/09/bitcoin.gif\" width=\"900px\" height=\"500px\"></a>\n",
    "\n",
    "<b><span style=\"color:red;font-size:19px;\">Removes the need for middle men arrangement as used by our banks.</span></b>\n",
    "\n",
    "Works on the Blockchain which is basically a method of recording information on a distributed and secured ledger(book or file that stores transactions) – eliminating the need for trust, or middle-men in many applications\n",
    "\n",
    "\n",
    "<a> <img src=\"blockchain.png\" width=\"900px\" height=\"500px\"></a>\n",
    "\n",
    "\n"
   ]
  },
  {
   "cell_type": "markdown",
   "metadata": {
    "collapsed": true
   },
   "source": [
    "<h1><p style=\"background-color:#FFFF00; border:1px solid blue;box-shadow:1px 1px 1px; color:blue; display:inline\">Why  Bitcoin? </p></h1>\n",
    "<br>\n",
    "<b><p style=\"font-size:16px\">2009 - Intital price of 1 bitcoin was <b style=\"font-size:20px\">0.005$$</b>  which now is<b style=\"font-size:24px\"> 7,500$</b> . </b>\n",
    "\n",
    "In five days, the price grew 1000% , rising from $$0.008 to $0.08 for 1 bitcoin.</p>\n",
    "\n",
    "<img src=\"millionare.jpg\" height=\"500px\" width=\"600px\"/>"
   ]
  },
  {
   "cell_type": "markdown",
   "metadata": {},
   "source": [
    "<h1><p style=\"background-color:#FFFF00; border:1px solid blue;box-shadow:1px 1px 1px; color:blue; display:inline\">How  Bitcoin ? </p></h1>\n"
   ]
  },
  {
   "cell_type": "markdown",
   "metadata": {},
   "source": [
    "<ul>\n",
    "<li><b style=\"font-size:20px; color: red\">MINE IT </b><b>to make it yours:</b>\n",
    "<img src=\"mine.jpg\" width=\"500px;\" height=\"500px\">\n",
    "<br/>\n",
    "\n",
    "<b>GPU'S image</b>\n",
    "\n",
    "<img src=\"https://www.techspot.com/articles-info/603/images/graphics-cards.jpg\" alt=\"GPUs description\">\n",
    "<br/>\n",
    "<li style=\"font-size:18px\"><b>Buy on trading exchanges</b> which defeats the whole purpose of bitcoin .\n",
    "But you still can make profits. ;)\n",
    "</ul>\n"
   ]
  },
  {
   "cell_type": "code",
   "execution_count": null,
   "metadata": {
    "collapsed": true
   },
   "outputs": [],
   "source": []
  },
  {
   "cell_type": "code",
   "execution_count": null,
   "metadata": {
    "collapsed": true
   },
   "outputs": [],
   "source": []
  }
 ],
 "metadata": {
  "kernelspec": {
   "display_name": "Python 3",
   "language": "python",
   "name": "python3"
  },
  "language_info": {
   "codemirror_mode": {
    "name": "ipython",
    "version": 3
   },
   "file_extension": ".py",
   "mimetype": "text/x-python",
   "name": "python",
   "nbconvert_exporter": "python",
   "pygments_lexer": "ipython3",
   "version": "3.5.0"
  }
 },
 "nbformat": 4,
 "nbformat_minor": 2
}
